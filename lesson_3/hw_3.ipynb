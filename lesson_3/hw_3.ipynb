{
 "cells": [
  {
   "cell_type": "markdown",
   "metadata": {},
   "source": [
    "1. Создать Dataset для загрузки данных (sklearn.datasets.fetch_california_housing)\n",
    "2. Обернуть его в Dataloader\n",
    "3. Написать архитектуру сети, которая предсказывает стоимость недвижимости. Сеть должна включать BatchNorm слои и Dropout (или НЕ включать, но нужно обосновать)\n",
    "4. Сравните сходимость Adam, RMSProp и SGD, сделайте вывод по качеству работы модели\n",
    "\n",
    "train-test разделение нужно сделать с помощью sklearn random_state=13, test_size = 0.25"
   ]
  },
  {
   "cell_type": "code",
   "execution_count": 1,
   "metadata": {},
   "outputs": [],
   "source": [
    "import math\n",
    "import torch\n",
    "import numpy as np\n",
    "import pandas as pd\n",
    "import torch.nn as nn\n",
    "import matplotlib.pyplot as plt\n",
    "import torch.nn.functional as F\n",
    "from sklearn import datasets, model_selection, preprocessing"
   ]
  },
  {
   "cell_type": "code",
   "execution_count": 2,
   "metadata": {},
   "outputs": [],
   "source": [
    "device = 'cuda' if torch.cuda.is_available() else 'cpu'"
   ]
  },
  {
   "cell_type": "code",
   "execution_count": 3,
   "metadata": {},
   "outputs": [],
   "source": [
    "dataset = datasets.fetch_california_housing()"
   ]
  },
  {
   "cell_type": "code",
   "execution_count": 4,
   "metadata": {},
   "outputs": [],
   "source": [
    "class HousingDataset():\n",
    "    def __init__(self, *init_datasets):\n",
    "        assert all(init_datasets[0].size(0) == init_dataset.size(0) for init_dataset in init_datasets), \"Несоотвутствует размерность среди dataset\"\n",
    "        self._base_datasets = init_datasets\n",
    "\n",
    "\n",
    "    def __len__(self):\n",
    "        return self._base_datasets[0].size(0)\n",
    "\n",
    "\n",
    "    def __getitem__(self, idx):\n",
    "        return tuple(base_dataset[idx] for base_dataset in self._base_datasets)"
   ]
  },
  {
   "cell_type": "code",
   "execution_count": 5,
   "metadata": {},
   "outputs": [],
   "source": [
    "X_train, X_test, y_train, y_test = model_selection.train_test_split(dataset.data, dataset.target, random_state=13, test_size=0.25)\n",
    "scale = preprocessing.StandardScaler()\n",
    "X_train_s = scale.fit_transform(X_train)\n",
    "X_test_s = scale.transform(X_test)"
   ]
  },
  {
   "cell_type": "code",
   "execution_count": 6,
   "metadata": {},
   "outputs": [],
   "source": [
    "train_xt = torch.from_numpy(X_train_s.astype(np.float32)).to(device)\n",
    "train_yt = torch.from_numpy(y_train.astype(np.float32)).to(device)\n",
    "test_xt = torch.from_numpy(X_test_s.astype(np.float32)).to(device)\n",
    "test_yt = torch.from_numpy(y_test.astype(np.float32)).to(device)"
   ]
  },
  {
   "cell_type": "code",
   "execution_count": 7,
   "metadata": {},
   "outputs": [],
   "source": [
    "train_dataset = HousingDataset(train_xt, train_yt)\n",
    "test_dataset = HousingDataset(test_xt, test_yt)"
   ]
  },
  {
   "cell_type": "code",
   "execution_count": 8,
   "metadata": {},
   "outputs": [],
   "source": [
    "train_loader = torch.utils.data.DataLoader(train_dataset, batch_size=64, shuffle=False, num_workers=0, drop_last=True)\n",
    "test_loader = torch.utils.data.DataLoader(test_dataset, batch_size=64, shuffle=False, num_workers=0, drop_last=True)"
   ]
  },
  {
   "cell_type": "code",
   "execution_count": 9,
   "metadata": {},
   "outputs": [],
   "source": [
    "class HousingNet(nn.Module):\n",
    "  def __init__(self) -> None:\n",
    "      super(HousingNet, self).__init__()\n",
    "      self.block_1 = nn.Sequential(\n",
    "          nn.Linear(in_features=8, out_features=200, bias=True),\n",
    "          nn.Dropout(0.1),\n",
    "          nn.BatchNorm1d(200),\n",
    "          nn.ReLU())\n",
    "      self.block_2 = nn.Sequential(\n",
    "          nn.Linear(in_features=200, out_features=150, bias=True),\n",
    "          nn.Dropout(0.1),\n",
    "          nn.BatchNorm1d(150),\n",
    "          nn.ReLU())\n",
    "      self.block_3 = nn.Sequential(\n",
    "          nn.Linear(in_features=150, out_features=100, bias=True),\n",
    "          nn.Dropout(0.1),\n",
    "          nn.BatchNorm1d(100),\n",
    "          nn.ReLU())\n",
    "      self.block_4 = nn.Sequential(\n",
    "          nn.Linear(in_features=100, out_features=80, bias=True),\n",
    "          nn.Dropout(0.2),\n",
    "          nn.BatchNorm1d(80),\n",
    "          nn.ReLU())\n",
    "      self.block_5 = nn.Sequential(\n",
    "          nn.Linear(in_features=80, out_features=30, bias=True),\n",
    "          nn.Dropout(0.2),\n",
    "          nn.BatchNorm1d(30),\n",
    "          nn.ReLU())\n",
    "      self.predict = nn.Sequential(\n",
    "          nn.Linear(in_features=30, out_features=1, bias=True),\n",
    "          nn.BatchNorm1d(1),\n",
    "          nn.ReLU())\n",
    "  \n",
    "  def forward(self, inp):\n",
    "    out = self.block_1(inp)\n",
    "    out = self.block_2(out)\n",
    "    out = self.block_3(out)\n",
    "    out = self.block_4(out)\n",
    "    out = self.block_5(out)\n",
    "    out = self.predict(out)\n",
    "    return out[:, 0]"
   ]
  },
  {
   "cell_type": "code",
   "execution_count": 10,
   "metadata": {},
   "outputs": [],
   "source": [
    "def train_loop(num_epochs, train_loader, test_loader, net, optimizer, criterion):\n",
    "    best_acc = {'train': None, 'test': None}\n",
    "    for epoch in range(num_epochs):\n",
    "        running_loss, running_items, running_right = 0.0, 0.0, 0.0\n",
    "        for i, data in enumerate(train_loader):\n",
    "            inputs, labels = data[0], data[1]\n",
    "            optimizer.zero_grad()\n",
    "            outputs = net(inputs)\n",
    "            loss = criterion(outputs, labels).to(device)\n",
    "            loss.backward()\n",
    "            optimizer.step()\n",
    "            running_loss += loss.item()\n",
    "            running_items += len(labels)\n",
    "            if i % 150 == 0 or (i + 1) == len(train_loader):\n",
    "                net.eval()\n",
    "                test_loss, test_running_total, test_loss  = 0.0, 0.0, 0.0\n",
    "                for y, (out_test, lbl_test) in enumerate(test_loader):\n",
    "                    test_outputs = net(out_test)\n",
    "                    test_loss += criterion(test_outputs, lbl_test)\n",
    "                    test_running_total += len(lbl_test)\n",
    "                res_loss_train = running_loss / running_items\n",
    "                res_loss_test = test_loss / test_running_total\n",
    "                if best_acc['train'] is None or res_loss_train < best_acc['train']:\n",
    "                    best_acc['train'] = res_loss_train\n",
    "                if best_acc['test'] is None or res_loss_test < best_acc['test']:\n",
    "                    best_acc['test'] = res_loss_train\n",
    "                print(f'Epoch [{epoch + 1}/{num_epochs}]. ' \\\n",
    "                    f'Step [{i + 1}/{len(train_loader)}]. ' \\\n",
    "                    f'Loss: {res_loss_train:.3f}. '\\\n",
    "                    f'Test acc: {res_loss_test:.3f}.')\n",
    "                running_loss, running_items = 0.0, 0.0\n",
    "                net.train()\n",
    "    return best_acc['train'], best_acc['test']"
   ]
  },
  {
   "cell_type": "code",
   "execution_count": 11,
   "metadata": {},
   "outputs": [],
   "source": [
    "lr_ = 0.01\n",
    "criterion = nn.MSELoss()\n",
    "acc_table = {}"
   ]
  },
  {
   "cell_type": "markdown",
   "metadata": {},
   "source": [
    "### Adam"
   ]
  },
  {
   "cell_type": "code",
   "execution_count": 12,
   "metadata": {},
   "outputs": [],
   "source": [
    "net = HousingNet().to(device)\n",
    "optimizer = torch.optim.Adam(net.parameters(), lr=lr_)"
   ]
  },
  {
   "cell_type": "code",
   "execution_count": 13,
   "metadata": {},
   "outputs": [
    {
     "name": "stdout",
     "output_type": "stream",
     "text": [
      "Epoch [1/10]. Step [1/241]. Loss: 0.068. Test acc: 0.086.\n",
      "Epoch [1/10]. Step [151/241]. Loss: 0.025. Test acc: 0.011.\n",
      "Epoch [1/10]. Step [241/241]. Loss: 0.010. Test acc: 0.015.\n",
      "Epoch [2/10]. Step [1/241]. Loss: 0.008. Test acc: 0.015.\n",
      "Epoch [2/10]. Step [151/241]. Loss: 0.008. Test acc: 0.008.\n",
      "Epoch [2/10]. Step [241/241]. Loss: 0.007. Test acc: 0.015.\n",
      "Epoch [3/10]. Step [1/241]. Loss: 0.006. Test acc: 0.015.\n",
      "Epoch [3/10]. Step [151/241]. Loss: 0.007. Test acc: 0.008.\n",
      "Epoch [3/10]. Step [241/241]. Loss: 0.007. Test acc: 0.016.\n",
      "Epoch [4/10]. Step [1/241]. Loss: 0.007. Test acc: 0.015.\n",
      "Epoch [4/10]. Step [151/241]. Loss: 0.007. Test acc: 0.008.\n",
      "Epoch [4/10]. Step [241/241]. Loss: 0.007. Test acc: 0.013.\n",
      "Epoch [5/10]. Step [1/241]. Loss: 0.004. Test acc: 0.013.\n",
      "Epoch [5/10]. Step [151/241]. Loss: 0.007. Test acc: 0.008.\n",
      "Epoch [5/10]. Step [241/241]. Loss: 0.007. Test acc: 0.010.\n",
      "Epoch [6/10]. Step [1/241]. Loss: 0.006. Test acc: 0.010.\n",
      "Epoch [6/10]. Step [151/241]. Loss: 0.006. Test acc: 0.008.\n",
      "Epoch [6/10]. Step [241/241]. Loss: 0.007. Test acc: 0.014.\n",
      "Epoch [7/10]. Step [1/241]. Loss: 0.005. Test acc: 0.014.\n",
      "Epoch [7/10]. Step [151/241]. Loss: 0.006. Test acc: 0.008.\n",
      "Epoch [7/10]. Step [241/241]. Loss: 0.006. Test acc: 0.013.\n",
      "Epoch [8/10]. Step [1/241]. Loss: 0.004. Test acc: 0.013.\n",
      "Epoch [8/10]. Step [151/241]. Loss: 0.006. Test acc: 0.008.\n",
      "Epoch [8/10]. Step [241/241]. Loss: 0.006. Test acc: 0.011.\n",
      "Epoch [9/10]. Step [1/241]. Loss: 0.005. Test acc: 0.011.\n",
      "Epoch [9/10]. Step [151/241]. Loss: 0.006. Test acc: 0.007.\n",
      "Epoch [9/10]. Step [241/241]. Loss: 0.006. Test acc: 0.014.\n",
      "Epoch [10/10]. Step [1/241]. Loss: 0.004. Test acc: 0.014.\n",
      "Epoch [10/10]. Step [151/241]. Loss: 0.006. Test acc: 0.008.\n",
      "Epoch [10/10]. Step [241/241]. Loss: 0.006. Test acc: 0.013.\n"
     ]
    }
   ],
   "source": [
    "acc_train, acc_test = train_loop(10, train_loader, test_loader, net, optimizer, criterion)\n",
    "acc_table['Adam'] = {'acc_train': acc_train, 'acc_test': acc_test}"
   ]
  },
  {
   "cell_type": "markdown",
   "metadata": {},
   "source": [
    "### RMSProp"
   ]
  },
  {
   "cell_type": "code",
   "execution_count": 14,
   "metadata": {},
   "outputs": [],
   "source": [
    "net = HousingNet().to(device)\n",
    "optimizer = torch.optim.RMSprop(net.parameters(), lr=lr_)"
   ]
  },
  {
   "cell_type": "code",
   "execution_count": 15,
   "metadata": {},
   "outputs": [
    {
     "name": "stdout",
     "output_type": "stream",
     "text": [
      "Epoch [1/10]. Step [1/241]. Loss: 0.076. Test acc: 0.100.\n",
      "Epoch [1/10]. Step [151/241]. Loss: 0.014. Test acc: 0.007.\n",
      "Epoch [1/10]. Step [241/241]. Loss: 0.008. Test acc: 0.012.\n",
      "Epoch [2/10]. Step [1/241]. Loss: 0.006. Test acc: 0.012.\n",
      "Epoch [2/10]. Step [151/241]. Loss: 0.008. Test acc: 0.007.\n",
      "Epoch [2/10]. Step [241/241]. Loss: 0.007. Test acc: 0.013.\n",
      "Epoch [3/10]. Step [1/241]. Loss: 0.005. Test acc: 0.013.\n",
      "Epoch [3/10]. Step [151/241]. Loss: 0.007. Test acc: 0.008.\n",
      "Epoch [3/10]. Step [241/241]. Loss: 0.007. Test acc: 0.013.\n",
      "Epoch [4/10]. Step [1/241]. Loss: 0.005. Test acc: 0.012.\n",
      "Epoch [4/10]. Step [151/241]. Loss: 0.007. Test acc: 0.007.\n",
      "Epoch [4/10]. Step [241/241]. Loss: 0.007. Test acc: 0.013.\n",
      "Epoch [5/10]. Step [1/241]. Loss: 0.004. Test acc: 0.012.\n",
      "Epoch [5/10]. Step [151/241]. Loss: 0.006. Test acc: 0.008.\n",
      "Epoch [5/10]. Step [241/241]. Loss: 0.007. Test acc: 0.013.\n",
      "Epoch [6/10]. Step [1/241]. Loss: 0.005. Test acc: 0.013.\n",
      "Epoch [6/10]. Step [151/241]. Loss: 0.006. Test acc: 0.007.\n",
      "Epoch [6/10]. Step [241/241]. Loss: 0.006. Test acc: 0.012.\n",
      "Epoch [7/10]. Step [1/241]. Loss: 0.005. Test acc: 0.012.\n",
      "Epoch [7/10]. Step [151/241]. Loss: 0.006. Test acc: 0.006.\n",
      "Epoch [7/10]. Step [241/241]. Loss: 0.006. Test acc: 0.014.\n",
      "Epoch [8/10]. Step [1/241]. Loss: 0.004. Test acc: 0.013.\n",
      "Epoch [8/10]. Step [151/241]. Loss: 0.006. Test acc: 0.007.\n",
      "Epoch [8/10]. Step [241/241]. Loss: 0.006. Test acc: 0.012.\n",
      "Epoch [9/10]. Step [1/241]. Loss: 0.004. Test acc: 0.012.\n",
      "Epoch [9/10]. Step [151/241]. Loss: 0.006. Test acc: 0.007.\n",
      "Epoch [9/10]. Step [241/241]. Loss: 0.006. Test acc: 0.013.\n",
      "Epoch [10/10]. Step [1/241]. Loss: 0.004. Test acc: 0.013.\n",
      "Epoch [10/10]. Step [151/241]. Loss: 0.005. Test acc: 0.007.\n",
      "Epoch [10/10]. Step [241/241]. Loss: 0.006. Test acc: 0.011.\n"
     ]
    }
   ],
   "source": [
    "acc_train, acc_test = train_loop(10, train_loader, test_loader, net, optimizer, criterion)\n",
    "acc_table['LMSProp'] = {'acc_train': acc_train, 'acc_test': acc_test}"
   ]
  },
  {
   "cell_type": "markdown",
   "metadata": {},
   "source": [
    "### SGD"
   ]
  },
  {
   "cell_type": "code",
   "execution_count": 16,
   "metadata": {},
   "outputs": [],
   "source": [
    "net = HousingNet().to(device)\n",
    "optimizer = torch.optim.SGD(net.parameters(), lr=lr_)"
   ]
  },
  {
   "cell_type": "code",
   "execution_count": 17,
   "metadata": {},
   "outputs": [
    {
     "name": "stdout",
     "output_type": "stream",
     "text": [
      "Epoch [1/10]. Step [1/241]. Loss: 0.071. Test acc: 0.088.\n",
      "Epoch [1/10]. Step [151/241]. Loss: 0.025. Test acc: 0.010.\n",
      "Epoch [1/10]. Step [241/241]. Loss: 0.011. Test acc: 0.010.\n",
      "Epoch [2/10]. Step [1/241]. Loss: 0.011. Test acc: 0.010.\n",
      "Epoch [2/10]. Step [151/241]. Loss: 0.010. Test acc: 0.009.\n",
      "Epoch [2/10]. Step [241/241]. Loss: 0.010. Test acc: 0.009.\n",
      "Epoch [3/10]. Step [1/241]. Loss: 0.010. Test acc: 0.009.\n",
      "Epoch [3/10]. Step [151/241]. Loss: 0.009. Test acc: 0.008.\n",
      "Epoch [3/10]. Step [241/241]. Loss: 0.009. Test acc: 0.008.\n",
      "Epoch [4/10]. Step [1/241]. Loss: 0.008. Test acc: 0.008.\n",
      "Epoch [4/10]. Step [151/241]. Loss: 0.008. Test acc: 0.007.\n",
      "Epoch [4/10]. Step [241/241]. Loss: 0.008. Test acc: 0.008.\n",
      "Epoch [5/10]. Step [1/241]. Loss: 0.006. Test acc: 0.008.\n",
      "Epoch [5/10]. Step [151/241]. Loss: 0.007. Test acc: 0.006.\n",
      "Epoch [5/10]. Step [241/241]. Loss: 0.007. Test acc: 0.008.\n",
      "Epoch [6/10]. Step [1/241]. Loss: 0.005. Test acc: 0.008.\n",
      "Epoch [6/10]. Step [151/241]. Loss: 0.007. Test acc: 0.006.\n",
      "Epoch [6/10]. Step [241/241]. Loss: 0.007. Test acc: 0.009.\n",
      "Epoch [7/10]. Step [1/241]. Loss: 0.006. Test acc: 0.008.\n",
      "Epoch [7/10]. Step [151/241]. Loss: 0.007. Test acc: 0.006.\n",
      "Epoch [7/10]. Step [241/241]. Loss: 0.007. Test acc: 0.009.\n",
      "Epoch [8/10]. Step [1/241]. Loss: 0.005. Test acc: 0.009.\n",
      "Epoch [8/10]. Step [151/241]. Loss: 0.007. Test acc: 0.006.\n",
      "Epoch [8/10]. Step [241/241]. Loss: 0.007. Test acc: 0.009.\n",
      "Epoch [9/10]. Step [1/241]. Loss: 0.006. Test acc: 0.009.\n",
      "Epoch [9/10]. Step [151/241]. Loss: 0.006. Test acc: 0.006.\n",
      "Epoch [9/10]. Step [241/241]. Loss: 0.007. Test acc: 0.009.\n",
      "Epoch [10/10]. Step [1/241]. Loss: 0.006. Test acc: 0.009.\n",
      "Epoch [10/10]. Step [151/241]. Loss: 0.006. Test acc: 0.006.\n",
      "Epoch [10/10]. Step [241/241]. Loss: 0.007. Test acc: 0.010.\n"
     ]
    }
   ],
   "source": [
    "acc_train, acc_test = train_loop(10, train_loader, test_loader, net, optimizer, criterion)\n",
    "acc_table['SGD'] = {'acc_train': acc_train, 'acc_test': acc_test}"
   ]
  },
  {
   "cell_type": "markdown",
   "metadata": {},
   "source": [
    "### SGD + Momentum"
   ]
  },
  {
   "cell_type": "code",
   "execution_count": 18,
   "metadata": {},
   "outputs": [],
   "source": [
    "net = HousingNet().to(device)\n",
    "optimizer = torch.optim.SGD(net.parameters(), lr=lr_, momentum=0.8)"
   ]
  },
  {
   "cell_type": "code",
   "execution_count": 19,
   "metadata": {},
   "outputs": [
    {
     "name": "stdout",
     "output_type": "stream",
     "text": [
      "Epoch [1/10]. Step [1/241]. Loss: 0.076. Test acc: 0.084.\n",
      "Epoch [1/10]. Step [151/241]. Loss: 0.015. Test acc: 0.008.\n",
      "Epoch [1/10]. Step [241/241]. Loss: 0.008. Test acc: 0.009.\n",
      "Epoch [2/10]. Step [1/241]. Loss: 0.007. Test acc: 0.008.\n",
      "Epoch [2/10]. Step [151/241]. Loss: 0.007. Test acc: 0.006.\n",
      "Epoch [2/10]. Step [241/241]. Loss: 0.007. Test acc: 0.009.\n",
      "Epoch [3/10]. Step [1/241]. Loss: 0.005. Test acc: 0.009.\n",
      "Epoch [3/10]. Step [151/241]. Loss: 0.007. Test acc: 0.006.\n",
      "Epoch [3/10]. Step [241/241]. Loss: 0.007. Test acc: 0.008.\n",
      "Epoch [4/10]. Step [1/241]. Loss: 0.006. Test acc: 0.008.\n",
      "Epoch [4/10]. Step [151/241]. Loss: 0.007. Test acc: 0.006.\n",
      "Epoch [4/10]. Step [241/241]. Loss: 0.007. Test acc: 0.010.\n",
      "Epoch [5/10]. Step [1/241]. Loss: 0.005. Test acc: 0.010.\n",
      "Epoch [5/10]. Step [151/241]. Loss: 0.006. Test acc: 0.006.\n",
      "Epoch [5/10]. Step [241/241]. Loss: 0.007. Test acc: 0.009.\n",
      "Epoch [6/10]. Step [1/241]. Loss: 0.004. Test acc: 0.008.\n",
      "Epoch [6/10]. Step [151/241]. Loss: 0.006. Test acc: 0.006.\n",
      "Epoch [6/10]. Step [241/241]. Loss: 0.006. Test acc: 0.010.\n",
      "Epoch [7/10]. Step [1/241]. Loss: 0.004. Test acc: 0.010.\n",
      "Epoch [7/10]. Step [151/241]. Loss: 0.006. Test acc: 0.006.\n",
      "Epoch [7/10]. Step [241/241]. Loss: 0.006. Test acc: 0.011.\n",
      "Epoch [8/10]. Step [1/241]. Loss: 0.004. Test acc: 0.011.\n",
      "Epoch [8/10]. Step [151/241]. Loss: 0.006. Test acc: 0.006.\n",
      "Epoch [8/10]. Step [241/241]. Loss: 0.006. Test acc: 0.011.\n",
      "Epoch [9/10]. Step [1/241]. Loss: 0.004. Test acc: 0.010.\n",
      "Epoch [9/10]. Step [151/241]. Loss: 0.006. Test acc: 0.006.\n",
      "Epoch [9/10]. Step [241/241]. Loss: 0.006. Test acc: 0.010.\n",
      "Epoch [10/10]. Step [1/241]. Loss: 0.005. Test acc: 0.010.\n",
      "Epoch [10/10]. Step [151/241]. Loss: 0.006. Test acc: 0.006.\n",
      "Epoch [10/10]. Step [241/241]. Loss: 0.006. Test acc: 0.012.\n"
     ]
    }
   ],
   "source": [
    "acc_train, acc_test = train_loop(10, train_loader, test_loader, net, optimizer, criterion)\n",
    "acc_table['SGD+Momentum'] = {'acc_train': acc_train, 'acc_test': acc_test}"
   ]
  },
  {
   "cell_type": "markdown",
   "metadata": {},
   "source": [
    "### Результаты"
   ]
  },
  {
   "cell_type": "code",
   "execution_count": 20,
   "metadata": {},
   "outputs": [
    {
     "data": {
      "text/html": [
       "<div>\n",
       "<style scoped>\n",
       "    .dataframe tbody tr th:only-of-type {\n",
       "        vertical-align: middle;\n",
       "    }\n",
       "\n",
       "    .dataframe tbody tr th {\n",
       "        vertical-align: top;\n",
       "    }\n",
       "\n",
       "    .dataframe thead th {\n",
       "        text-align: right;\n",
       "    }\n",
       "</style>\n",
       "<table border=\"1\" class=\"dataframe\">\n",
       "  <thead>\n",
       "    <tr style=\"text-align: right;\">\n",
       "      <th></th>\n",
       "      <th>acc_train</th>\n",
       "      <th>acc_test</th>\n",
       "    </tr>\n",
       "  </thead>\n",
       "  <tbody>\n",
       "    <tr>\n",
       "      <th>Adam</th>\n",
       "      <td>0.004182</td>\n",
       "      <td>0.006743</td>\n",
       "    </tr>\n",
       "    <tr>\n",
       "      <th>LMSProp</th>\n",
       "      <td>0.003902</td>\n",
       "      <td>0.005971</td>\n",
       "    </tr>\n",
       "    <tr>\n",
       "      <th>SGD</th>\n",
       "      <td>0.004873</td>\n",
       "      <td>0.005817</td>\n",
       "    </tr>\n",
       "    <tr>\n",
       "      <th>SGD+Momentum</th>\n",
       "      <td>0.003830</td>\n",
       "      <td>0.005770</td>\n",
       "    </tr>\n",
       "  </tbody>\n",
       "</table>\n",
       "</div>"
      ],
      "text/plain": [
       "              acc_train  acc_test\n",
       "Adam           0.004182  0.006743\n",
       "LMSProp        0.003902  0.005971\n",
       "SGD            0.004873  0.005817\n",
       "SGD+Momentum   0.003830  0.005770"
      ]
     },
     "execution_count": 20,
     "metadata": {},
     "output_type": "execute_result"
    }
   ],
   "source": [
    "pd.DataFrame(acc_table).transpose()"
   ]
  }
 ],
 "metadata": {
  "kernelspec": {
   "display_name": "Python 3",
   "language": "python",
   "name": "python3"
  },
  "language_info": {
   "codemirror_mode": {
    "name": "ipython",
    "version": 3
   },
   "file_extension": ".py",
   "mimetype": "text/x-python",
   "name": "python",
   "nbconvert_exporter": "python",
   "pygments_lexer": "ipython3",
   "version": "3.10.12"
  }
 },
 "nbformat": 4,
 "nbformat_minor": 2
}
